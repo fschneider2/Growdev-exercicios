{
  "nbformat": 4,
  "nbformat_minor": 0,
  "metadata": {
    "colab": {
      "name": "Untitled0.ipynb",
      "provenance": [],
      "collapsed_sections": [],
      "authorship_tag": "ABX9TyNHbO2HobKiVqIrJbsSFa2h"
    },
    "kernelspec": {
      "name": "python3",
      "display_name": "Python 3"
    },
    "language_info": {
      "name": "python"
    }
  },
  "cells": [
    {
      "cell_type": "markdown",
      "source": [
        "Lendo e configurando arquivo .csv"
      ],
      "metadata": {
        "id": "ealgSeh2s-4W"
      }
    },
    {
      "cell_type": "code",
      "execution_count": 33,
      "metadata": {
        "id": "SqE_OMj2rzAH"
      },
      "outputs": [],
      "source": [
        "import csv\n",
        "\n",
        "def importar_arquivo():\n",
        "    nome_arquivo = 'dados_modulo_estatistica.csv'\n",
        "    f = open(nome_arquivo, encoding= 'utf-8') \n",
        "    dados = csv.reader(f, delimiter= ',') \n",
        "    dados = list(dados)\n",
        "    info = dicionario_e_int(dados)\n",
        "    return info\n",
        "\n",
        "def dicionario_e_int(a):\n",
        "    info = [] \n",
        "    for i in range(1, len(a)): \n",
        "        info.append(\n",
        "            {\n",
        "                'semana': a[i][0],\n",
        "                'dia': a[i][1],\n",
        "                'temperatura': float(a[i][2])\n",
        "            }\n",
        "        )\n",
        "    return info\n",
        "dados = importar_arquivo()"
      ]
    },
    {
      "cell_type": "markdown",
      "source": [
        "Funçoes"
      ],
      "metadata": {
        "id": "29DDeWdbs6ee"
      }
    },
    {
      "cell_type": "code",
      "source": [
        "import matplotlib.pyplot as plt\n",
        "import numpy as np\n",
        "import pandas as pd\n",
        "import seaborn as sns"
      ],
      "metadata": {
        "id": "0ULyoncsszGf"
      },
      "execution_count": 34,
      "outputs": []
    },
    {
      "cell_type": "markdown",
      "source": [
        "1 - organize uma tablema de frequência para as classes."
      ],
      "metadata": {
        "id": "hhBhWgNitGPJ"
      }
    },
    {
      "cell_type": "code",
      "source": [
        "dados = np.reshape(temperatura,(3,7))\n",
        "\n",
        "frequencia = pd.DataFrame(dados, columns = x1)\n",
        "frequencia"
      ],
      "metadata": {
        "colab": {
          "base_uri": "https://localhost:8080/",
          "height": 143
        },
        "id": "TgQxnWkJtK5I",
        "outputId": "0bac41ba-a2bf-4c1f-ac99-430d77d5afce"
      },
      "execution_count": 75,
      "outputs": [
        {
          "output_type": "execute_result",
          "data": {
            "text/plain": [
              "    dom   seg   ter   qua   qui   sex   sab\n",
              "0  30.0  32.0  31.5  31.0  33.0  34.0  33.0\n",
              "1  32.0  30.0  28.0  29.0  30.5  31.0  29.0\n",
              "2  33.0  34.0  35.0  35.0  34.5  34.0  33.0"
            ],
            "text/html": [
              "\n",
              "  <div id=\"df-ddd2dbe0-fbd6-4fa6-9f68-3f7db3896780\">\n",
              "    <div class=\"colab-df-container\">\n",
              "      <div>\n",
              "<style scoped>\n",
              "    .dataframe tbody tr th:only-of-type {\n",
              "        vertical-align: middle;\n",
              "    }\n",
              "\n",
              "    .dataframe tbody tr th {\n",
              "        vertical-align: top;\n",
              "    }\n",
              "\n",
              "    .dataframe thead th {\n",
              "        text-align: right;\n",
              "    }\n",
              "</style>\n",
              "<table border=\"1\" class=\"dataframe\">\n",
              "  <thead>\n",
              "    <tr style=\"text-align: right;\">\n",
              "      <th></th>\n",
              "      <th>dom</th>\n",
              "      <th>seg</th>\n",
              "      <th>ter</th>\n",
              "      <th>qua</th>\n",
              "      <th>qui</th>\n",
              "      <th>sex</th>\n",
              "      <th>sab</th>\n",
              "    </tr>\n",
              "  </thead>\n",
              "  <tbody>\n",
              "    <tr>\n",
              "      <th>0</th>\n",
              "      <td>30.0</td>\n",
              "      <td>32.0</td>\n",
              "      <td>31.5</td>\n",
              "      <td>31.0</td>\n",
              "      <td>33.0</td>\n",
              "      <td>34.0</td>\n",
              "      <td>33.0</td>\n",
              "    </tr>\n",
              "    <tr>\n",
              "      <th>1</th>\n",
              "      <td>32.0</td>\n",
              "      <td>30.0</td>\n",
              "      <td>28.0</td>\n",
              "      <td>29.0</td>\n",
              "      <td>30.5</td>\n",
              "      <td>31.0</td>\n",
              "      <td>29.0</td>\n",
              "    </tr>\n",
              "    <tr>\n",
              "      <th>2</th>\n",
              "      <td>33.0</td>\n",
              "      <td>34.0</td>\n",
              "      <td>35.0</td>\n",
              "      <td>35.0</td>\n",
              "      <td>34.5</td>\n",
              "      <td>34.0</td>\n",
              "      <td>33.0</td>\n",
              "    </tr>\n",
              "  </tbody>\n",
              "</table>\n",
              "</div>\n",
              "      <button class=\"colab-df-convert\" onclick=\"convertToInteractive('df-ddd2dbe0-fbd6-4fa6-9f68-3f7db3896780')\"\n",
              "              title=\"Convert this dataframe to an interactive table.\"\n",
              "              style=\"display:none;\">\n",
              "        \n",
              "  <svg xmlns=\"http://www.w3.org/2000/svg\" height=\"24px\"viewBox=\"0 0 24 24\"\n",
              "       width=\"24px\">\n",
              "    <path d=\"M0 0h24v24H0V0z\" fill=\"none\"/>\n",
              "    <path d=\"M18.56 5.44l.94 2.06.94-2.06 2.06-.94-2.06-.94-.94-2.06-.94 2.06-2.06.94zm-11 1L8.5 8.5l.94-2.06 2.06-.94-2.06-.94L8.5 2.5l-.94 2.06-2.06.94zm10 10l.94 2.06.94-2.06 2.06-.94-2.06-.94-.94-2.06-.94 2.06-2.06.94z\"/><path d=\"M17.41 7.96l-1.37-1.37c-.4-.4-.92-.59-1.43-.59-.52 0-1.04.2-1.43.59L10.3 9.45l-7.72 7.72c-.78.78-.78 2.05 0 2.83L4 21.41c.39.39.9.59 1.41.59.51 0 1.02-.2 1.41-.59l7.78-7.78 2.81-2.81c.8-.78.8-2.07 0-2.86zM5.41 20L4 18.59l7.72-7.72 1.47 1.35L5.41 20z\"/>\n",
              "  </svg>\n",
              "      </button>\n",
              "      \n",
              "  <style>\n",
              "    .colab-df-container {\n",
              "      display:flex;\n",
              "      flex-wrap:wrap;\n",
              "      gap: 12px;\n",
              "    }\n",
              "\n",
              "    .colab-df-convert {\n",
              "      background-color: #E8F0FE;\n",
              "      border: none;\n",
              "      border-radius: 50%;\n",
              "      cursor: pointer;\n",
              "      display: none;\n",
              "      fill: #1967D2;\n",
              "      height: 32px;\n",
              "      padding: 0 0 0 0;\n",
              "      width: 32px;\n",
              "    }\n",
              "\n",
              "    .colab-df-convert:hover {\n",
              "      background-color: #E2EBFA;\n",
              "      box-shadow: 0px 1px 2px rgba(60, 64, 67, 0.3), 0px 1px 3px 1px rgba(60, 64, 67, 0.15);\n",
              "      fill: #174EA6;\n",
              "    }\n",
              "\n",
              "    [theme=dark] .colab-df-convert {\n",
              "      background-color: #3B4455;\n",
              "      fill: #D2E3FC;\n",
              "    }\n",
              "\n",
              "    [theme=dark] .colab-df-convert:hover {\n",
              "      background-color: #434B5C;\n",
              "      box-shadow: 0px 1px 3px 1px rgba(0, 0, 0, 0.15);\n",
              "      filter: drop-shadow(0px 1px 2px rgba(0, 0, 0, 0.3));\n",
              "      fill: #FFFFFF;\n",
              "    }\n",
              "  </style>\n",
              "\n",
              "      <script>\n",
              "        const buttonEl =\n",
              "          document.querySelector('#df-ddd2dbe0-fbd6-4fa6-9f68-3f7db3896780 button.colab-df-convert');\n",
              "        buttonEl.style.display =\n",
              "          google.colab.kernel.accessAllowed ? 'block' : 'none';\n",
              "\n",
              "        async function convertToInteractive(key) {\n",
              "          const element = document.querySelector('#df-ddd2dbe0-fbd6-4fa6-9f68-3f7db3896780');\n",
              "          const dataTable =\n",
              "            await google.colab.kernel.invokeFunction('convertToInteractive',\n",
              "                                                     [key], {});\n",
              "          if (!dataTable) return;\n",
              "\n",
              "          const docLinkHtml = 'Like what you see? Visit the ' +\n",
              "            '<a target=\"_blank\" href=https://colab.research.google.com/notebooks/data_table.ipynb>data table notebook</a>'\n",
              "            + ' to learn more about interactive tables.';\n",
              "          element.innerHTML = '';\n",
              "          dataTable['output_type'] = 'display_data';\n",
              "          await google.colab.output.renderOutput(dataTable, element);\n",
              "          const docLink = document.createElement('div');\n",
              "          docLink.innerHTML = docLinkHtml;\n",
              "          element.appendChild(docLink);\n",
              "        }\n",
              "      </script>\n",
              "    </div>\n",
              "  </div>\n",
              "  "
            ]
          },
          "metadata": {},
          "execution_count": 75
        }
      ]
    },
    {
      "cell_type": "markdown",
      "source": [
        "2 - para cada semana, faça um gráfico de linha, para acompanhar a evolução da temperatura"
      ],
      "metadata": {
        "id": "4h6OslUytQ9h"
      }
    },
    {
      "cell_type": "markdown",
      "source": [
        "Semana 1 "
      ],
      "metadata": {
        "id": "pX1K_JflwX3w"
      }
    },
    {
      "cell_type": "code",
      "source": [
        "x1 = []\n",
        "y1 = [] \n",
        "for i in dados:\n",
        "    if i['semana'] == 'semana_1':\n",
        "        x1.append(i['dia'])\n",
        "        y1.append(i['temperatura'])\n",
        "\n",
        "fig, ax = plt.subplots()\n",
        "plt.plot(x1,y1,color='green',linewidth=3)\n",
        "plt.xlabel('Dia')\n",
        "plt.ylabel('Temperatura')\n",
        "plt.title(f'Temperatura da semana 1')\n",
        "plt.show()"
      ],
      "metadata": {
        "colab": {
          "base_uri": "https://localhost:8080/",
          "height": 295
        },
        "id": "6jAtUAQBtUXw",
        "outputId": "04f54929-946e-45dd-c462-ca3d6791017e"
      },
      "execution_count": 71,
      "outputs": [
        {
          "output_type": "display_data",
          "data": {
            "text/plain": [
              "<Figure size 432x288 with 1 Axes>"
            ],
            "image/png": "[encoded data removed]"
          },
          "metadata": {
            "needs_background": "light"
          }
        }
      ]
    },
    {
      "cell_type": "markdown",
      "source": [
        "Semana 2 "
      ],
      "metadata": {
        "id": "S2UBNGgkwSuK"
      }
    },
    {
      "cell_type": "code",
      "source": [
        "x2 = []\n",
        "y2 = [] \n",
        "for i in dados:\n",
        "    if i['semana'] == 'semana_2':\n",
        "        x2.append(i['dia'])\n",
        "        y2.append(i['temperatura'])\n",
        "\n",
        "fig, ax = plt.subplots()\n",
        "plt.plot(x2,y2,color='green',linewidth=3)\n",
        "plt.xlabel('Dia')\n",
        "plt.ylabel('Temperatura')\n",
        "plt.title(f'Temperatura da semana 2')\n",
        "plt.show()"
      ],
      "metadata": {
        "colab": {
          "base_uri": "https://localhost:8080/",
          "height": 295
        },
        "id": "3sh0vLE2wamU",
        "outputId": "4c84d901-9259-4062-b22d-b3d34ec38d86"
      },
      "execution_count": 53,
      "outputs": [
        {
          "output_type": "display_data",
          "data": {
            "text/plain": [
              "<Figure size 432x288 with 1 Axes>"
            ],
            "image/png": "[encoded data removed]"
          },
          "metadata": {
            "needs_background": "light"
          }
        }
      ]
    },
    {
      "cell_type": "markdown",
      "source": [
        "Semana 3 "
      ],
      "metadata": {
        "id": "azcfT6YMwbUr"
      }
    },
    {
      "cell_type": "code",
      "source": [
        "x3 = []\n",
        "y3 = [] \n",
        "for i in dados:\n",
        "    if i['semana'] == 'semana_3':\n",
        "        x3.append(i['dia'])\n",
        "        y3.append(i['temperatura'])\n",
        "\n",
        "fig, ax = plt.subplots()\n",
        "plt.plot(x3,y3,color='green',linewidth=3)\n",
        "plt.xlabel('Dia')\n",
        "plt.ylabel('Temperatura')\n",
        "plt.title(f'Temperatura da semana 3')\n",
        "plt.show()"
      ],
      "metadata": {
        "colab": {
          "base_uri": "https://localhost:8080/",
          "height": 295
        },
        "id": "C56rl0cKwdZj",
        "outputId": "4555864e-796f-4672-cb95-d935f7a76b61"
      },
      "execution_count": 52,
      "outputs": [
        {
          "output_type": "display_data",
          "data": {
            "text/plain": [
              "<Figure size 432x288 with 1 Axes>"
            ],
            "image/png": "[encoded data removed]"
          },
          "metadata": {
            "needs_background": "light"
          }
        }
      ]
    },
    {
      "cell_type": "markdown",
      "source": [
        "3 -  Calcule a média de toda a série."
      ],
      "metadata": {
        "id": "7waoPW9AtVxI"
      }
    },
    {
      "cell_type": "code",
      "source": [
        "temperatura = []\n",
        "\n",
        "for i in dados:\n",
        "    if i['temperatura'] != 0:\n",
        "        temperatura.append(i['temperatura'])\n",
        "\n",
        "media = sum(temperatura) / len(temperatura)\n",
        "\n",
        "print(f'A média de toda a série é {media} C°')"
      ],
      "metadata": {
        "colab": {
          "base_uri": "https://localhost:8080/"
        },
        "id": "dNrqjvBMtZ3Z",
        "outputId": "8833f15b-7d3c-48f2-9156-9902be8f6264"
      },
      "execution_count": 57,
      "outputs": [
        {
          "output_type": "stream",
          "name": "stdout",
          "text": [
            "A média de toda a série é 32.023809523809526 C°\n"
          ]
        }
      ]
    },
    {
      "cell_type": "markdown",
      "source": [
        "4 - calcule a média para cada semana. "
      ],
      "metadata": {
        "id": "RpcB1qL_txaG"
      }
    },
    {
      "cell_type": "code",
      "source": [
        "temperatura1 = 0\n",
        "temperatura2 = 0\n",
        "temperatura3 = 0\n",
        "\n",
        "for i in dados:\n",
        "    if i['semana'] == 'semana_1':\n",
        "        temperatura1 += i['temperatura']\n",
        "\n",
        "    elif i['semana'] == 'semana_2':\n",
        "        temperatura2 += i['temperatura']\n",
        "        \n",
        "    else:\n",
        "        temperatura3 += i['temperatura']\n",
        "        \n",
        "media1 = temperatura1 / 7\n",
        "media2 = temperatura2 / 7\n",
        "media3 = temperatura3 / 7\n",
        "\n",
        "print(f'A média de temperatura é: \\nSemana 1 = {media1} C°'\n",
        "f'\\nSemana 2 = {media2} C° \\nSemana 3 = {media3} C°')"
      ],
      "metadata": {
        "colab": {
          "base_uri": "https://localhost:8080/"
        },
        "id": "w5dgKkKCt3kU",
        "outputId": "00afb3e5-6deb-451a-bfc5-2d90cf48acb9"
      },
      "execution_count": 49,
      "outputs": [
        {
          "output_type": "stream",
          "name": "stdout",
          "text": [
            "A média de temperatura é: \n",
            "Semana 1 = 32.07142857142857 C°\n",
            "Semana 2 = 29.928571428571427 C° \n",
            "Semana 3 = 34.07142857142857 C°\n"
          ]
        }
      ]
    },
    {
      "cell_type": "markdown",
      "source": [
        "5 - Obter o box-plot para toda série e para cada semana.  "
      ],
      "metadata": {
        "id": "HaNTqgY4t0Dx"
      }
    },
    {
      "cell_type": "code",
      "source": [
        "# Do mês inteiro\n",
        "\n",
        "mes = pd.DataFrame(temperatura, columns=['MÊS'])\n",
        "Q1 = mes.quantile(0.25)\n",
        "Q2 = mes.quantile(0.5)\n",
        "Q3 = mes.quantile(0.75)\n",
        "sns.boxplot(y='MÊS', data=mes)\n",
        "plt.show()"
      ],
      "metadata": {
        "colab": {
          "base_uri": "https://localhost:8080/",
          "height": 252
        },
        "id": "QL4z5l5163pw",
        "outputId": "4f89fd2e-0e73-44fb-922a-2858a2620b33"
      },
      "execution_count": 62,
      "outputs": [
        {
          "output_type": "display_data",
          "data": {
            "text/plain": [
              "<Figure size 432x288 with 1 Axes>"
            ],
            "image/png": "[encoded data removed]"
          },
          "metadata": {
            "needs_background": "light"
          }
        }
      ]
    },
    {
      "cell_type": "code",
      "source": [
        "# Da Primeira semana\n",
        "semana_1 = pd.DataFrame(y1, columns=['Semana 1'])\n",
        "Q1 = semana_1.quantile(0.25)\n",
        "Q2 = semana_1.quantile(0.5)\n",
        "Q3 = semana_1.quantile(0.75)\n",
        "sns.boxplot(y='Semana 1', data=semana_1)\n",
        "plt.show()"
      ],
      "metadata": {
        "colab": {
          "base_uri": "https://localhost:8080/",
          "height": 252
        },
        "id": "pFXanibr8CYF",
        "outputId": "5eeeab93-60f8-44e7-e6ba-421da73ae973"
      },
      "execution_count": 67,
      "outputs": [
        {
          "output_type": "display_data",
          "data": {
            "text/plain": [
              "<Figure size 432x288 with 1 Axes>"
            ],
            "image/png": "[encoded data removed]"
          },
          "metadata": {
            "needs_background": "light"
          }
        }
      ]
    },
    {
      "cell_type": "code",
      "source": [
        "# Da segunda semana\n",
        "semana_2 = pd.DataFrame(y2, columns=['Semana 2'])\n",
        "Q1 = semana_2.quantile(0.25)\n",
        "Q2 = semana_2.quantile(0.5)\n",
        "Q3 = semana_2.quantile(0.75)\n",
        "sns.boxplot(y='Semana 2', data=semana_2)\n",
        "plt.show()"
      ],
      "metadata": {
        "colab": {
          "base_uri": "https://localhost:8080/",
          "height": 252
        },
        "id": "jfk9mvgQ8C-X",
        "outputId": "8ff6dec4-f8d3-49ee-b016-b08ed452ef3b"
      },
      "execution_count": 60,
      "outputs": [
        {
          "output_type": "display_data",
          "data": {
            "text/plain": [
              "<Figure size 432x288 with 1 Axes>"
            ],
            "image/png": "[encoded data removed]"
          },
          "metadata": {
            "needs_background": "light"
          }
        }
      ]
    },
    {
      "cell_type": "code",
      "source": [
        "# Da terceira semana\n",
        "semana_3 = pd.DataFrame(y3, columns=['Semana 3'])\n",
        "Q1 = semana_3.quantile(0.25)\n",
        "Q2 = semana_3.quantile(0.5)\n",
        "Q3 = semana_3.quantile(0.75)\n",
        "sns.boxplot(y='Semana 3', data=semana_3)\n",
        "plt.show()"
      ],
      "metadata": {
        "colab": {
          "base_uri": "https://localhost:8080/",
          "height": 252
        },
        "id": "OVRfyKBg8C0E",
        "outputId": "9d2eb2e3-4cd1-48dd-fbb9-d936a7b92b1d"
      },
      "execution_count": 66,
      "outputs": [
        {
          "output_type": "display_data",
          "data": {
            "text/plain": [
              "<Figure size 432x288 with 1 Axes>"
            ],
            "image/png": "[encoded data removed]"
          },
          "metadata": {
            "needs_background": "light"
          }
        }
      ]
    }
  ]
}