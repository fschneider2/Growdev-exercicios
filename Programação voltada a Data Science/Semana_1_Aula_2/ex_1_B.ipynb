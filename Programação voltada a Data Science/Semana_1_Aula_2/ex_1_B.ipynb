{
  "nbformat": 4,
  "nbformat_minor": 0,
  "metadata": {
    "colab": {
      "name": "ex_1_B.ipynb",
      "provenance": [],
      "collapsed_sections": []
    },
    "kernelspec": {
      "name": "python3",
      "display_name": "Python 3"
    },
    "language_info": {
      "name": "python"
    }
  },
  "cells": [
    {
      "cell_type": "markdown",
      "source": [
        "# Importações\n"
      ],
      "metadata": {
        "id": "6Di8ttXoEbZE"
      }
    },
    {
      "cell_type": "code",
      "execution_count": 2,
      "metadata": {
        "id": "kEBmNXinDMht"
      },
      "outputs": [],
      "source": [
        "import numpy as np\n",
        "import numpy.ma as ma\n",
        "import cv2\n",
        "from google.colab.patches import cv2_imshow\n",
        "import statistics"
      ]
    },
    {
      "cell_type": "markdown",
      "source": [
        "# 1) Como mudar os itens do array?"
      ],
      "metadata": {
        "id": "3LSq3kABFqoV"
      }
    },
    {
      "cell_type": "code",
      "source": [
        "arr = np.array([0, 1, 2, 3, 4, 5, 6, 7, 8, 9])\n",
        "arr2 = []\n",
        "arr = np.where(arr % 2 == 1, arr, 0) \n",
        "arr = np.where (arr % 2 == 0, arr, 1)\n",
        "\n",
        "for i in arr:\n",
        "    if i == 0:\n",
        "        i += 1\n",
        "    if i == 1:\n",
        "        i += 10\n",
        "    arr2.append(i)\n",
        "print(arr)\n",
        "print(arr2)"
      ],
      "metadata": {
        "id": "LCueM9xGFraV",
        "colab": {
          "base_uri": "https://localhost:8080/"
        },
        "outputId": "88660912-d4d7-4bd7-e547-7c69a5458e87"
      },
      "execution_count": null,
      "outputs": [
        {
          "output_type": "stream",
          "name": "stdout",
          "text": [
            "[0 1 0 1 0 1 0 1 0 1]\n",
            "[11, 11, 11, 11, 11, 11, 11, 11, 11, 11]\n"
          ]
        }
      ]
    },
    {
      "cell_type": "markdown",
      "source": [
        "# 2) Como empilhar dois arrays verticalmente?"
      ],
      "metadata": {
        "id": "Kyztew8GFrm8"
      }
    },
    {
      "cell_type": "code",
      "source": [
        "a = np.arange(10).reshape(2,-1)\n",
        "b = np.repeat(1, 10).reshape(2,-1)\n",
        "\n",
        "ab = np.concatenate((a,b), axis=0)\n",
        "ab"
      ],
      "metadata": {
        "id": "9-kyQuN6FukA",
        "colab": {
          "base_uri": "https://localhost:8080/"
        },
        "outputId": "ee805767-a55a-4637-acdb-21d71caa2c43"
      },
      "execution_count": null,
      "outputs": [
        {
          "output_type": "execute_result",
          "data": {
            "text/plain": [
              "array([[0, 1, 2, 3, 4],\n",
              "       [5, 6, 7, 8, 9],\n",
              "       [1, 1, 1, 1, 1],\n",
              "       [1, 1, 1, 1, 1]])"
            ]
          },
          "metadata": {},
          "execution_count": 30
        }
      ]
    },
    {
      "cell_type": "markdown",
      "source": [
        "# 3) Como empilhar dois arrays horizontalmente?"
      ],
      "metadata": {
        "id": "sl2RfZifneWT"
      }
    },
    {
      "cell_type": "code",
      "source": [
        "a = np.arange(10).reshape(2,-1)\n",
        "b = np.repeat(1, 10).reshape(2,-1)\n",
        "\n",
        "ab = np.concatenate((a,b), axis=1)\n",
        "ab"
      ],
      "metadata": {
        "colab": {
          "base_uri": "https://localhost:8080/"
        },
        "id": "5iVu0s6knkiL",
        "outputId": "ca90005f-61aa-4db3-c93a-dec87b0e935a"
      },
      "execution_count": null,
      "outputs": [
        {
          "output_type": "execute_result",
          "data": {
            "text/plain": [
              "array([[0, 1, 2, 3, 4, 1, 1, 1, 1, 1],\n",
              "       [5, 6, 7, 8, 9, 1, 1, 1, 1, 1]])"
            ]
          },
          "metadata": {},
          "execution_count": 31
        }
      ]
    },
    {
      "cell_type": "markdown",
      "source": [
        "4) Como criar a seguinte sequência com numpy."
      ],
      "metadata": {
        "id": "FZ0npmQrFu44"
      }
    },
    {
      "cell_type": "code",
      "source": [
        "from numpy.lib.shape_base import array_split\n",
        "a = np.array([1, 2, 3])\n",
        "\n",
        "a = np.hstack((np.repeat(a,3), np.tile(a,3)))\n",
        "\n",
        "a\n",
        "\n",
        "# Resposta obtida a partir da logica do colega Marcus Faustino "
      ],
      "metadata": {
        "id": "LIvaBJhXF_sE",
        "colab": {
          "base_uri": "https://localhost:8080/"
        },
        "outputId": "dc010db6-f235-46a9-aee4-df3202b688bd"
      },
      "execution_count": 16,
      "outputs": [
        {
          "output_type": "execute_result",
          "data": {
            "text/plain": [
              "array([1, 1, 1, 2, 2, 2, 3, 3, 3, 1, 2, 3, 1, 2, 3, 1, 2, 3])"
            ]
          },
          "metadata": {},
          "execution_count": 16
        }
      ]
    },
    {
      "cell_type": "markdown",
      "source": [
        "5) Como pegar os elementos em comum entre dois arrays?\n"
      ],
      "metadata": {
        "id": "QnFk3tB7GANW"
      }
    },
    {
      "cell_type": "code",
      "source": [
        "a = np.array([1,2,3,2,3,4,3,4,5,6])\n",
        "\n",
        "b = np.array([7,2,10,2,7,4,9,4,9,8])\n",
        "\n",
        "ab = np.intersect1d(a, b)\n",
        "ab"
      ],
      "metadata": {
        "id": "2bcj3V5mGCpX",
        "colab": {
          "base_uri": "https://localhost:8080/"
        },
        "outputId": "826ba102-32fe-4de7-8eb6-62b3376cdb30"
      },
      "execution_count": 20,
      "outputs": [
        {
          "output_type": "execute_result",
          "data": {
            "text/plain": [
              "array([2, 4])"
            ]
          },
          "metadata": {},
          "execution_count": 20
        }
      ]
    },
    {
      "cell_type": "markdown",
      "source": [
        "6) Como pegar as posições de elementos iguais entre dois arrays?\n",
        "Entrada:"
      ],
      "metadata": {
        "id": "t_HOCJ89GDBL"
      }
    },
    {
      "cell_type": "code",
      "source": [
        "a = np.array([1,2,3,2,3,4,3,4,5,6])\n",
        "\n",
        "b = np.array([7,2,10,2,7,4,9,4,9,8])\n",
        "\n",
        "ab = np.where(a == b)\n",
        "ab"
      ],
      "metadata": {
        "id": "WCmB0VqWGFd5",
        "colab": {
          "base_uri": "https://localhost:8080/"
        },
        "outputId": "0186f329-e54d-4f99-b868-fcaab610a6a7"
      },
      "execution_count": 21,
      "outputs": [
        {
          "output_type": "execute_result",
          "data": {
            "text/plain": [
              "(array([1, 3, 5, 7]),)"
            ]
          },
          "metadata": {},
          "execution_count": 21
        }
      ]
    },
    {
      "cell_type": "markdown",
      "source": [
        "7) Como extrair todos os números em um intervalo desejado?\n",
        "Entrada:"
      ],
      "metadata": {
        "id": "Q8WlUNicGF0d"
      }
    },
    {
      "cell_type": "code",
      "source": [
        "a = np.array([2, 6, 1, 9, 10, 3, 27])\n",
        "\n",
        "b = a[(a>=6)*(a<=10)]\n",
        "\n",
        "b"
      ],
      "metadata": {
        "id": "geDZSNw-GHkY",
        "colab": {
          "base_uri": "https://localhost:8080/"
        },
        "outputId": "2a079f31-96e9-4a41-9316-0ebe1e5a8078"
      },
      "execution_count": 38,
      "outputs": [
        {
          "output_type": "execute_result",
          "data": {
            "text/plain": [
              "array([ 6,  9, 10])"
            ]
          },
          "metadata": {},
          "execution_count": 38
        }
      ]
    },
    {
      "cell_type": "markdown",
      "source": [
        "8) Como transformar um array 2D em um array 1D, crie um array 2D com uma\n",
        "quantidade arbitrária de linhas e colunas e transforme em um array 1D."
      ],
      "metadata": {
        "id": "yc6EWdqKGHxi"
      }
    },
    {
      "cell_type": "code",
      "source": [
        "arr_2d = np.random.randint(1,10,(2,4))\n",
        "\n",
        "arr_1d = arr_2d.flatten()\n",
        "\n",
        "print(arr_2d)\n",
        "\n",
        "arr_1d"
      ],
      "metadata": {
        "id": "vedXmOSHGJxx",
        "colab": {
          "base_uri": "https://localhost:8080/"
        },
        "outputId": "103d0987-294f-46cb-e3f5-c3e9f45eef14"
      },
      "execution_count": 46,
      "outputs": [
        {
          "output_type": "stream",
          "name": "stdout",
          "text": [
            "[[6 7 5 2]\n",
            " [7 2 3 8]]\n"
          ]
        },
        {
          "output_type": "execute_result",
          "data": {
            "text/plain": [
              "array([6, 7, 5, 2, 7, 2, 3, 8])"
            ]
          },
          "metadata": {},
          "execution_count": 46
        }
      ]
    },
    {
      "cell_type": "markdown",
      "source": [
        "9) Crie uma ufunc para transformar uma imagem colorida em uma imagem em\n",
        "escala de cinza e aplique em um programa."
      ],
      "metadata": {
        "id": "M86rdYONGJ_8"
      }
    },
    {
      "cell_type": "code",
      "source": [
        ""
      ],
      "metadata": {
        "id": "gXFIWJeRGL8N",
        "colab": {
          "base_uri": "https://localhost:8080/"
        },
        "outputId": "1e965865-5f9c-4f05-9a7c-91e2310b8bb6"
      },
      "execution_count": 47,
      "outputs": [
        {
          "output_type": "stream",
          "name": "stdout",
          "text": [
            "[[1 2 3 4 5 1 2 3 4 5 1 2 3 4 5 1 2 3 4 5 1 2 3 4 5]]\n"
          ]
        }
      ]
    },
    {
      "cell_type": "markdown",
      "source": [
        "10) O seguinte link contém imagens comparativas dos registros dos telescópios\n",
        "Hubble e James Webb de diferentes partes do cosmos. Faça o download das\n",
        "imagens de um dos registros escolhidos, carregue a imagem com o opencv, e\n",
        "realize os seguintes processamentos.\n",
        "\n",
        "\n",
        "a) Crie e aplique filtros para exibir as imagens em cores vermelho, verde\n",
        "e azul separadamente, para que possamos observar esses espectros\n",
        "da luz visível separadamente.\n",
        "\n",
        "b) Crie e aplique um filtro que procure exibir somente (ou quase isso) os\n",
        "pontos mais brilhantes da imagem (normalmente estrelas ou galáxias)"
      ],
      "metadata": {
        "id": "zCSPstazGMap"
      }
    },
    {
      "cell_type": "code",
      "source": [
        ""
      ],
      "metadata": {
        "id": "9dVV9ZIYGPU0"
      },
      "execution_count": null,
      "outputs": []
    }
  ]
}