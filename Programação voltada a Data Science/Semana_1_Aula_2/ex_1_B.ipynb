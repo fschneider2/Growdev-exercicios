{
  "nbformat": 4,
  "nbformat_minor": 0,
  "metadata": {
    "colab": {
      "name": "ex_1_B.ipynb",
      "provenance": [],
      "collapsed_sections": []
    },
    "kernelspec": {
      "name": "python3",
      "display_name": "Python 3"
    },
    "language_info": {
      "name": "python"
    }
  },
  "cells": [
    {
      "cell_type": "markdown",
      "source": [
        "Importações\n"
      ],
      "metadata": {
        "id": "6Di8ttXoEbZE"
      }
    },
    {
      "cell_type": "code",
      "execution_count": null,
      "metadata": {
        "id": "kEBmNXinDMht"
      },
      "outputs": [],
      "source": [
        "import numpy as np"
      ]
    },
    {
      "cell_type": "markdown",
      "source": [
        "1) Como mudar os itens do array?"
      ],
      "metadata": {
        "id": "3LSq3kABFqoV"
      }
    },
    {
      "cell_type": "code",
      "source": [
        ""
      ],
      "metadata": {
        "id": "LCueM9xGFraV"
      },
      "execution_count": null,
      "outputs": []
    },
    {
      "cell_type": "markdown",
      "source": [
        "2) Como empilhar dois arrays verticalmente?"
      ],
      "metadata": {
        "id": "Kyztew8GFrm8"
      }
    },
    {
      "cell_type": "code",
      "source": [
        ""
      ],
      "metadata": {
        "id": "9-kyQuN6FukA"
      },
      "execution_count": null,
      "outputs": []
    },
    {
      "cell_type": "markdown",
      "source": [
        "4) Como criar a seguinte sequência com numpy."
      ],
      "metadata": {
        "id": "FZ0npmQrFu44"
      }
    },
    {
      "cell_type": "code",
      "source": [
        ""
      ],
      "metadata": {
        "id": "LIvaBJhXF_sE"
      },
      "execution_count": null,
      "outputs": []
    },
    {
      "cell_type": "markdown",
      "source": [
        "5) Como pegar os elementos em comum entre dois arrays?\n"
      ],
      "metadata": {
        "id": "QnFk3tB7GANW"
      }
    },
    {
      "cell_type": "code",
      "source": [
        ""
      ],
      "metadata": {
        "id": "2bcj3V5mGCpX"
      },
      "execution_count": null,
      "outputs": []
    },
    {
      "cell_type": "markdown",
      "source": [
        "6) Como pegar as posições de elementos iguais entre dois arrays?\n",
        "Entrada:"
      ],
      "metadata": {
        "id": "t_HOCJ89GDBL"
      }
    },
    {
      "cell_type": "code",
      "source": [
        ""
      ],
      "metadata": {
        "id": "WCmB0VqWGFd5"
      },
      "execution_count": null,
      "outputs": []
    },
    {
      "cell_type": "markdown",
      "source": [
        "7) Como extrair todos os números em um intervalo desejado?\n",
        "Entrada:"
      ],
      "metadata": {
        "id": "Q8WlUNicGF0d"
      }
    },
    {
      "cell_type": "code",
      "source": [
        ""
      ],
      "metadata": {
        "id": "geDZSNw-GHkY"
      },
      "execution_count": null,
      "outputs": []
    },
    {
      "cell_type": "markdown",
      "source": [
        "8) Como transformar um array 2D em um array 1D, crie um array 2D com uma\n",
        "quantidade arbitrária de linhas e colunas e transforme em um array 1D."
      ],
      "metadata": {
        "id": "yc6EWdqKGHxi"
      }
    },
    {
      "cell_type": "code",
      "source": [
        ""
      ],
      "metadata": {
        "id": "vedXmOSHGJxx"
      },
      "execution_count": null,
      "outputs": []
    },
    {
      "cell_type": "markdown",
      "source": [
        "9) Crie uma ufunc para transformar uma imagem colorida em uma imagem em\n",
        "escala de cinza e aplique em um programa."
      ],
      "metadata": {
        "id": "M86rdYONGJ_8"
      }
    },
    {
      "cell_type": "code",
      "source": [
        ""
      ],
      "metadata": {
        "id": "gXFIWJeRGL8N"
      },
      "execution_count": null,
      "outputs": []
    },
    {
      "cell_type": "markdown",
      "source": [
        "10) O seguinte link contém imagens comparativas dos registros dos telescópios\n",
        "Hubble e James Webb de diferentes partes do cosmos. Faça o download das\n",
        "imagens de um dos registros escolhidos, carregue a imagem com o opencv, e\n",
        "realize os seguintes processamentos.\n",
        "\n",
        "\n",
        "a) Crie e aplique filtros para exibir as imagens em cores vermelho, verde\n",
        "e azul separadamente, para que possamos observar esses espectros\n",
        "da luz visível separadamente.\n",
        "\n",
        "b) Crie e aplique um filtro que procure exibir somente (ou quase isso) os\n",
        "pontos mais brilhantes da imagem (normalmente estrelas ou galáxias)"
      ],
      "metadata": {
        "id": "zCSPstazGMap"
      }
    },
    {
      "cell_type": "code",
      "source": [
        ""
      ],
      "metadata": {
        "id": "9dVV9ZIYGPU0"
      },
      "execution_count": null,
      "outputs": []
    }
  ]
}